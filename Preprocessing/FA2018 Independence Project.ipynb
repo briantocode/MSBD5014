{
 "cells": [
  {
   "cell_type": "raw",
   "metadata": {},
   "source": [
    "Taxi demands and travel speed Prediction"
   ]
  },
  {
   "cell_type": "code",
   "execution_count": 3,
   "metadata": {},
   "outputs": [],
   "source": [
    "import pandas as pd\n",
    "import numpy as np\n",
    "from tqdm import tqdm\n",
    "from datetime import datetime\n",
    "from tqdm import tqdm\n",
    "\n",
    "import warnings\n",
    "import os\n",
    "import sys\n",
    "import time\n",
    "import requests\n",
    "import glob\n",
    "\n",
    "warnings.simplefilter(action='ignore', category=FutureWarning)"
   ]
  },
  {
   "cell_type": "raw",
   "metadata": {},
   "source": [
    "Create Preprocessing Function"
   ]
  },
  {
   "cell_type": "code",
   "execution_count": 2,
   "metadata": {},
   "outputs": [],
   "source": [
    "def RemoveOutliner(data, feature):\n",
    "    '''Use statistical method to remove some statistical outliner'''\n",
    "    data = data[data[feature]>0]      #trip, time, cannot be zero\n",
    "    upper_bound = data[feature].median() + (data[feature].quantile(0.75)-data[feature].quantile(0.25))*1.5\n",
    "    lower_bound = data[feature].median() - (data[feature].quantile(0.75)-data[feature].quantile(0.25))*1.5\n",
    "    data = data[data[feature]<upper_bound]\n",
    "    data = data[data[feature]>lower_bound]\n",
    "    return data"
   ]
  },
  {
   "cell_type": "code",
   "execution_count": 3,
   "metadata": {},
   "outputs": [],
   "source": [
    "def DataCleansing(data):\n",
    "    data = RemoveOutliner(data, 'trip_duration')\n",
    "    data = RemoveOutliner(data, 'trip_distance')\n",
    "    data = RemoveOutliner(data, 'speed')\n",
    "    return data"
   ]
  },
  {
   "cell_type": "code",
   "execution_count": 4,
   "metadata": {},
   "outputs": [],
   "source": [
    "def getFile():\n",
    "    path = \"./data/\"\n",
    "    allFiles = glob.glob(path + \"/*.csv\")\n",
    "    list_ = []\n",
    "    for file_ in allFiles:\n",
    "        df = pd.read_csv(file_)\n",
    "        list_.append(df)\n",
    "    df = pd.concat(list_, axis = 0)\n",
    "    return df"
   ]
  },
  {
   "cell_type": "code",
   "execution_count": 5,
   "metadata": {},
   "outputs": [],
   "source": [
    "def AddFeatures(data):\n",
    "    #convert to datetime\n",
    "    data.tpep_pickup_datetime = pd.to_datetime(data.tpep_pickup_datetime, format='%Y%m%d %H:%M:%S')\n",
    "    data.tpep_dropoff_datetime = pd.to_datetime(data.tpep_dropoff_datetime, format='%Y%m%d %H:%M:%S')\n",
    "    #add new feature [trip_duration] and [speed]\n",
    "    data['trip_duration'] = (data[\"tpep_dropoff_datetime\"] - data[\"tpep_pickup_datetime\"]).dt.total_seconds().astype(int)\n",
    "    data['speed'] = round((data['trip_distance']/data['trip_duration']*60*60), 2)\n",
    "    data = data[data[\"tpep_pickup_datetime\"] >= pd.Timestamp(2018, 1, 1)]\n",
    "    data = data[data[\"tpep_pickup_datetime\"] <= pd.Timestamp(2018, 6, 30)]\n",
    "    return data"
   ]
  },
  {
   "cell_type": "code",
   "execution_count": 6,
   "metadata": {},
   "outputs": [],
   "source": [
    "def SelectFeatures(data):\n",
    "    return data[['tpep_pickup_datetime', 'tpep_dropoff_datetime', 'trip_distance', 'trip_duration', 'speed', 'PULocationID', 'DOLocationID', 'total_amount']]"
   ]
  },
  {
   "cell_type": "code",
   "execution_count": 7,
   "metadata": {},
   "outputs": [],
   "source": [
    "def DateTime_Binning(data):\n",
    "    data[\"pickup_date\"] = data.tpep_pickup_datetime.dt.date\n",
    "    data[\"pickup_hour\"] = data.tpep_pickup_datetime.dt.hour\n",
    "    data.drop(['tpep_pickup_datetime', 'tpep_dropoff_datetime'], inplace=True, axis=1)\n",
    "    return data"
   ]
  },
  {
   "cell_type": "code",
   "execution_count": 8,
   "metadata": {},
   "outputs": [],
   "source": [
    "def getData():\n",
    "    df = getFile()\n",
    "    df = AddFeatures(df)\n",
    "    df = SelectFeatures(df)\n",
    "    df = DataCleansing(df)\n",
    "    df = DateTime_Binning(df)\n",
    "    df = df[['pickup_date', 'pickup_hour', 'PULocationID', 'DOLocationID', 'trip_distance', 'trip_duration', 'speed', 'total_amount']]\n",
    "    df.sort_values(by=['pickup_date', 'pickup_hour', 'PULocationID'], inplace = True)\n",
    "    df = df.reset_index(drop = True)\n",
    "    return df"
   ]
  },
  {
   "cell_type": "raw",
   "metadata": {},
   "source": [
    "Preprocessing\n",
    "1.  Import data for subfolder, and concat into a large sql table\n",
    "2.  Add trip duration and speeds\n",
    "3.  Remove the outlier\n",
    "4.  flooring the time to the nearest hour"
   ]
  },
  {
   "cell_type": "code",
   "execution_count": 9,
   "metadata": {},
   "outputs": [],
   "source": [
    "taxidata = getData()"
   ]
  },
  {
   "cell_type": "raw",
   "metadata": {},
   "source": [
    "The followings are the first 5 taxi transaction"
   ]
  },
  {
   "cell_type": "code",
   "execution_count": 10,
   "metadata": {},
   "outputs": [
    {
     "data": {
      "text/html": [
       "<div>\n",
       "<style scoped>\n",
       "    .dataframe tbody tr th:only-of-type {\n",
       "        vertical-align: middle;\n",
       "    }\n",
       "\n",
       "    .dataframe tbody tr th {\n",
       "        vertical-align: top;\n",
       "    }\n",
       "\n",
       "    .dataframe thead th {\n",
       "        text-align: right;\n",
       "    }\n",
       "</style>\n",
       "<table border=\"1\" class=\"dataframe\">\n",
       "  <thead>\n",
       "    <tr style=\"text-align: right;\">\n",
       "      <th></th>\n",
       "      <th>pickup_date</th>\n",
       "      <th>pickup_hour</th>\n",
       "      <th>PULocationID</th>\n",
       "      <th>DOLocationID</th>\n",
       "      <th>trip_distance</th>\n",
       "      <th>trip_duration</th>\n",
       "      <th>speed</th>\n",
       "      <th>total_amount</th>\n",
       "    </tr>\n",
       "  </thead>\n",
       "  <tbody>\n",
       "    <tr>\n",
       "      <th>0</th>\n",
       "      <td>2018-01-01</td>\n",
       "      <td>0</td>\n",
       "      <td>4</td>\n",
       "      <td>232</td>\n",
       "      <td>0.7</td>\n",
       "      <td>283</td>\n",
       "      <td>8.90</td>\n",
       "      <td>6.30</td>\n",
       "    </tr>\n",
       "    <tr>\n",
       "      <th>1</th>\n",
       "      <td>2018-01-01</td>\n",
       "      <td>0</td>\n",
       "      <td>4</td>\n",
       "      <td>148</td>\n",
       "      <td>0.8</td>\n",
       "      <td>514</td>\n",
       "      <td>5.60</td>\n",
       "      <td>9.55</td>\n",
       "    </tr>\n",
       "    <tr>\n",
       "      <th>2</th>\n",
       "      <td>2018-01-01</td>\n",
       "      <td>0</td>\n",
       "      <td>4</td>\n",
       "      <td>224</td>\n",
       "      <td>1.1</td>\n",
       "      <td>343</td>\n",
       "      <td>11.55</td>\n",
       "      <td>7.30</td>\n",
       "    </tr>\n",
       "    <tr>\n",
       "      <th>3</th>\n",
       "      <td>2018-01-01</td>\n",
       "      <td>0</td>\n",
       "      <td>4</td>\n",
       "      <td>232</td>\n",
       "      <td>0.9</td>\n",
       "      <td>462</td>\n",
       "      <td>7.01</td>\n",
       "      <td>7.80</td>\n",
       "    </tr>\n",
       "    <tr>\n",
       "      <th>4</th>\n",
       "      <td>2018-01-01</td>\n",
       "      <td>0</td>\n",
       "      <td>4</td>\n",
       "      <td>68</td>\n",
       "      <td>2.9</td>\n",
       "      <td>1217</td>\n",
       "      <td>8.58</td>\n",
       "      <td>15.80</td>\n",
       "    </tr>\n",
       "  </tbody>\n",
       "</table>\n",
       "</div>"
      ],
      "text/plain": [
       "  pickup_date  pickup_hour  PULocationID  DOLocationID  trip_distance  \\\n",
       "0  2018-01-01            0             4           232            0.7   \n",
       "1  2018-01-01            0             4           148            0.8   \n",
       "2  2018-01-01            0             4           224            1.1   \n",
       "3  2018-01-01            0             4           232            0.9   \n",
       "4  2018-01-01            0             4            68            2.9   \n",
       "\n",
       "   trip_duration  speed  total_amount  \n",
       "0            283   8.90          6.30  \n",
       "1            514   5.60          9.55  \n",
       "2            343  11.55          7.30  \n",
       "3            462   7.01          7.80  \n",
       "4           1217   8.58         15.80  "
      ]
     },
     "execution_count": 10,
     "metadata": {},
     "output_type": "execute_result"
    }
   ],
   "source": [
    "taxidata.head()"
   ]
  },
  {
   "cell_type": "code",
   "execution_count": 11,
   "metadata": {},
   "outputs": [
    {
     "name": "stdout",
     "output_type": "stream",
     "text": [
      "<class 'pandas.core.frame.DataFrame'>\n",
      "RangeIndex: 39610214 entries, 0 to 39610213\n",
      "Data columns (total 8 columns):\n",
      "pickup_date      object\n",
      "pickup_hour      int64\n",
      "PULocationID     int64\n",
      "DOLocationID     int64\n",
      "trip_distance    float64\n",
      "trip_duration    int64\n",
      "speed            float64\n",
      "total_amount     float64\n",
      "dtypes: float64(3), int64(4), object(1)\n",
      "memory usage: 2.4+ GB\n"
     ]
    }
   ],
   "source": [
    "taxidata.info()"
   ]
  },
  {
   "cell_type": "code",
   "execution_count": null,
   "metadata": {},
   "outputs": [],
   "source": [
    "#save taxi data for later use\n",
    "taxidata.to_csv('taxidata2018.csv')"
   ]
  },
  {
   "cell_type": "raw",
   "metadata": {},
   "source": [
    "Because the raw data DO NOT include transaction, I need to count all the transaction\n",
    "\n",
    "The following are the function:\n",
    "    First I create a hash header for all the locations with time.\n",
    "    For example, location 24, Feb, 5th, 11:35 am\n",
    "    I create a hash key as 24#2#5#11 and assign a value of 0\n",
    "    Then I make ONE DBScan and interate the value for each hash key.\n",
    "    Once the count completed, the string will be splited by '#' "
   ]
  },
  {
   "cell_type": "code",
   "execution_count": 13,
   "metadata": {},
   "outputs": [],
   "source": [
    "def getDemands(data):\n",
    "    hash_header = []\n",
    "    dict_counter = {}\n",
    "    for location in range(1, 266):\n",
    "        for month in [1, 3, 5]: \n",
    "            for day in range(1, 32):\n",
    "                for hour in range(0, 24):\n",
    "                    name = str(location) + '#' + str(month) + '#' + str(day) + '#' + str(hour)\n",
    "                    hash_header.append(name)\n",
    "                    dict_counter[name] = 0\n",
    "        for month in [2]:\n",
    "            for day in range(1, 29):\n",
    "                for hour in range(0, 24):\n",
    "                    name = str(location) + '#' + str(month) + '#' + str(day) + '#' + str(hour)\n",
    "                    hash_header.append(name)\n",
    "                    dict_counter[name] = 0\n",
    "        for month in [4, 6]:\n",
    "            for day in range(1, 31):\n",
    "                for hour in range(0, 24):\n",
    "                    name = str(location) + '#' + str(month) + '#' + str(day) + '#' + str(hour)\n",
    "                    hash_header.append(name)\n",
    "                    dict_counter[name] = 0\n",
    "\n",
    "    df_rows = data.iterrows()\n",
    "    for index, row in data.iterrows():\n",
    "        record = str(row['PULocationID']) +'#' + str(row['pickup_month']) + '#' + str(row['pickup_dayofmonth']) + '#' + str(row['pickup_hour'])\n",
    "        dict_counter[record] += 1\n",
    "\n",
    "    df_count = pd.DataFrame(list(dict_counter.items()), columns=['k','count'])\n",
    "    df_count_split = df_count['k'].str.split(\"#\" ,expand = True)\n",
    "    df_count_split.columns = ['PULocationID', 'pickup_month', 'pickup_dayofmonth', 'pickup_hour']\n",
    "    freqTable = pd.concat([df_count_split, df_count['count']], axis = 1)\n",
    "\n",
    "    return freqTable"
   ]
  },
  {
   "cell_type": "code",
   "execution_count": 16,
   "metadata": {},
   "outputs": [],
   "source": [
    "taxidata.pickup_date = pd.to_datetime(taxidata.pickup_date, format='%Y%m%d %H:%M:%S')\n",
    "taxidata[\"pickup_month\"] = taxidata.pickup_date.dt.month\n",
    "taxidata[\"pickup_dayofmonth\"] = taxidata.pickup_date.dt.day"
   ]
  },
  {
   "cell_type": "code",
   "execution_count": 17,
   "metadata": {},
   "outputs": [],
   "source": [
    "freqTable = getDemands(taxidata)"
   ]
  },
  {
   "cell_type": "code",
   "execution_count": 18,
   "metadata": {},
   "outputs": [
    {
     "data": {
      "text/html": [
       "<div>\n",
       "<style scoped>\n",
       "    .dataframe tbody tr th:only-of-type {\n",
       "        vertical-align: middle;\n",
       "    }\n",
       "\n",
       "    .dataframe tbody tr th {\n",
       "        vertical-align: top;\n",
       "    }\n",
       "\n",
       "    .dataframe thead th {\n",
       "        text-align: right;\n",
       "    }\n",
       "</style>\n",
       "<table border=\"1\" class=\"dataframe\">\n",
       "  <thead>\n",
       "    <tr style=\"text-align: right;\">\n",
       "      <th></th>\n",
       "      <th>PULocationID</th>\n",
       "      <th>pickup_month</th>\n",
       "      <th>pickup_dayofmonth</th>\n",
       "      <th>pickup_hour</th>\n",
       "      <th>count</th>\n",
       "    </tr>\n",
       "  </thead>\n",
       "  <tbody>\n",
       "    <tr>\n",
       "      <th>0</th>\n",
       "      <td>1</td>\n",
       "      <td>1</td>\n",
       "      <td>1</td>\n",
       "      <td>0</td>\n",
       "      <td>0</td>\n",
       "    </tr>\n",
       "    <tr>\n",
       "      <th>1</th>\n",
       "      <td>1</td>\n",
       "      <td>1</td>\n",
       "      <td>1</td>\n",
       "      <td>1</td>\n",
       "      <td>0</td>\n",
       "    </tr>\n",
       "    <tr>\n",
       "      <th>2</th>\n",
       "      <td>1</td>\n",
       "      <td>1</td>\n",
       "      <td>1</td>\n",
       "      <td>2</td>\n",
       "      <td>0</td>\n",
       "    </tr>\n",
       "    <tr>\n",
       "      <th>3</th>\n",
       "      <td>1</td>\n",
       "      <td>1</td>\n",
       "      <td>1</td>\n",
       "      <td>3</td>\n",
       "      <td>1</td>\n",
       "    </tr>\n",
       "    <tr>\n",
       "      <th>4</th>\n",
       "      <td>1</td>\n",
       "      <td>1</td>\n",
       "      <td>1</td>\n",
       "      <td>4</td>\n",
       "      <td>0</td>\n",
       "    </tr>\n",
       "  </tbody>\n",
       "</table>\n",
       "</div>"
      ],
      "text/plain": [
       "  PULocationID pickup_month pickup_dayofmonth pickup_hour  count\n",
       "0            1            1                 1           0      0\n",
       "1            1            1                 1           1      0\n",
       "2            1            1                 1           2      0\n",
       "3            1            1                 1           3      1\n",
       "4            1            1                 1           4      0"
      ]
     },
     "execution_count": 18,
     "metadata": {},
     "output_type": "execute_result"
    }
   ],
   "source": [
    "freqTable.head()"
   ]
  },
  {
   "cell_type": "code",
   "execution_count": null,
   "metadata": {},
   "outputs": [],
   "source": []
  },
  {
   "cell_type": "code",
   "execution_count": 41,
   "metadata": {},
   "outputs": [],
   "source": [
    "freqTable.PULocationID = freqTable.PULocationID.astype(int)\n",
    "freqTable.pickup_month = freqTable.pickup_month.astype(int)\n",
    "freqTable.pickup_dayofmonth = freqTable.pickup_dayofmonth.astype(int)\n",
    "freqTable.pickup_hour = freqTable.pickup_hour.astype(int)"
   ]
  },
  {
   "cell_type": "code",
   "execution_count": 47,
   "metadata": {},
   "outputs": [],
   "source": [
    "dfm = list(freqTable['pickup_month'])\n",
    "dfd = list(freqTable['pickup_dayofmonth'])\n",
    "freqTable['Date'] = pd.Timestamp(2018, 1, 1)\n",
    "for i in range(freqTable.shape[0]):\n",
    "    freqTable.loc[i, ('Date')] = pd.Timestamp(2018, dfm[i], dfd[i])\n",
    "\n",
    "demandCount = freqTable[['Date', 'pickup_hour', 'PULocationID', 'count']]"
   ]
  },
  {
   "cell_type": "code",
   "execution_count": 50,
   "metadata": {},
   "outputs": [
    {
     "data": {
      "text/html": [
       "<div>\n",
       "<style scoped>\n",
       "    .dataframe tbody tr th:only-of-type {\n",
       "        vertical-align: middle;\n",
       "    }\n",
       "\n",
       "    .dataframe tbody tr th {\n",
       "        vertical-align: top;\n",
       "    }\n",
       "\n",
       "    .dataframe thead th {\n",
       "        text-align: right;\n",
       "    }\n",
       "</style>\n",
       "<table border=\"1\" class=\"dataframe\">\n",
       "  <thead>\n",
       "    <tr style=\"text-align: right;\">\n",
       "      <th></th>\n",
       "      <th>Date</th>\n",
       "      <th>pickup_hour</th>\n",
       "      <th>PULocationID</th>\n",
       "      <th>count</th>\n",
       "    </tr>\n",
       "  </thead>\n",
       "  <tbody>\n",
       "    <tr>\n",
       "      <th>0</th>\n",
       "      <td>2018-01-01</td>\n",
       "      <td>0</td>\n",
       "      <td>1</td>\n",
       "      <td>0</td>\n",
       "    </tr>\n",
       "    <tr>\n",
       "      <th>1</th>\n",
       "      <td>2018-01-01</td>\n",
       "      <td>1</td>\n",
       "      <td>1</td>\n",
       "      <td>0</td>\n",
       "    </tr>\n",
       "    <tr>\n",
       "      <th>2</th>\n",
       "      <td>2018-01-01</td>\n",
       "      <td>2</td>\n",
       "      <td>1</td>\n",
       "      <td>0</td>\n",
       "    </tr>\n",
       "    <tr>\n",
       "      <th>3</th>\n",
       "      <td>2018-01-01</td>\n",
       "      <td>3</td>\n",
       "      <td>1</td>\n",
       "      <td>1</td>\n",
       "    </tr>\n",
       "    <tr>\n",
       "      <th>4</th>\n",
       "      <td>2018-01-01</td>\n",
       "      <td>4</td>\n",
       "      <td>1</td>\n",
       "      <td>0</td>\n",
       "    </tr>\n",
       "  </tbody>\n",
       "</table>\n",
       "</div>"
      ],
      "text/plain": [
       "         Date  pickup_hour  PULocationID  count\n",
       "0  2018-01-01            0             1      0\n",
       "1  2018-01-01            1             1      0\n",
       "2  2018-01-01            2             1      0\n",
       "3  2018-01-01            3             1      1\n",
       "4  2018-01-01            4             1      0"
      ]
     },
     "execution_count": 50,
     "metadata": {},
     "output_type": "execute_result"
    }
   ],
   "source": [
    "demandCount.head()"
   ]
  },
  {
   "cell_type": "code",
   "execution_count": null,
   "metadata": {},
   "outputs": [],
   "source": []
  },
  {
   "cell_type": "code",
   "execution_count": null,
   "metadata": {},
   "outputs": [],
   "source": []
  },
  {
   "cell_type": "code",
   "execution_count": null,
   "metadata": {},
   "outputs": [],
   "source": []
  },
  {
   "cell_type": "raw",
   "metadata": {},
   "source": [
    "Get counting table"
   ]
  },
  {
   "cell_type": "code",
   "execution_count": 19,
   "metadata": {},
   "outputs": [],
   "source": [
    "def getZoneDict(data):\n",
    "    '''Because there are 265 taxi zone in NYC, I only focus on Manahttan and the aiports.  The yellow zone is manhattan '''\n",
    "    loc_id = list(data.LocationID)\n",
    "    loc_zone = list(data.Zone)\n",
    "    ATZ_dict = dict(zip(loc_id, loc_zone))\n",
    "    ATZ_dict[-1] = np.nan\n",
    "\n",
    "    selected_neighborhood = data[(data.service_zone == 'Yellow Zone')|(data.service_zone == 'Airports') | (data.service_zone == 'EWR')]\n",
    "    selectlist = list(selected_neighborhood.LocationID)\n",
    "    selectzone = list(selected_neighborhood.Zone)\n",
    "    selected_dict = dict(zip(selectlist, selectzone))\n",
    "    return ATZ_dict, selected_dict, selectlist"
   ]
  },
  {
   "cell_type": "code",
   "execution_count": 20,
   "metadata": {},
   "outputs": [],
   "source": [
    "def getCountLabel(data1, data2):\n",
    "    data2.rename(columns = {'Date': 'pickup_date'}, inplace = True)\n",
    "    data1.set_index(['pickup_date', 'pickup_hour', 'PULocationID'], inplace=True)\n",
    "    data2.set_index(['pickup_date', 'pickup_hour', 'PULocationID'], inplace=True)\n",
    "\n",
    "    CountLabel = data2.join(data1, how = 'outer')\n",
    "    CountLabel = CountLabel.reset_index(drop = False)\n",
    "    return CountLabel"
   ]
  },
  {
   "cell_type": "code",
   "execution_count": 57,
   "metadata": {},
   "outputs": [],
   "source": [
    "loopupTable = pd.read_csv('taxi_zone_lookup.csv')\n",
    "long_dict, short_dict, sel_list = getZoneDict(loopupTable)"
   ]
  },
  {
   "cell_type": "code",
   "execution_count": 58,
   "metadata": {},
   "outputs": [],
   "source": [
    "CountTable = getCountLabel(taxiTable, demandCount)\n",
    "CountTable = CountTable[CountTable['PULocationID'].isin(sel_list)]\n",
    "CountTable['PULoc_name'] = pd.Series(list(map(lambda x:short_dict[x],list(CountTable['PULocationID'].values))))\n",
    "CountTable.DOLocationID = CountTable['DOLocationID'].fillna(-1)   #if the destination is not within yellow zone, the transaction will be ignored\n",
    "CountTable['DOLoc_name'] = pd.Series(list(map(lambda x:long_dict[x],list(CountTable['DOLocationID'].values))))"
   ]
  },
  {
   "cell_type": "code",
   "execution_count": 60,
   "metadata": {},
   "outputs": [],
   "source": [
    "CountTable.pickup_date = pd.to_datetime(CountTable.pickup_date, format='%Y%m%d %H:%M:%S')\n",
    "CountTable[\"pickup_dayofweek\"] = CountTable.pickup_date.dt.dayofweek\n",
    "CountTable = CountTable[['pickup_date', 'pickup_hour', 'pickup_dayofweek', 'PULocationID', 'PULoc_name', 'DOLocationID', 'DOLoc_name', 'trip_distance', 'trip_duration', 'speed', 'total_amount', 'count']]"
   ]
  },
  {
   "cell_type": "raw",
   "metadata": {},
   "source": [
    "The following are the count table, include the relevant features to make prediction for counts and speeds"
   ]
  },
  {
   "cell_type": "code",
   "execution_count": 61,
   "metadata": {},
   "outputs": [
    {
     "data": {
      "text/html": [
       "<div>\n",
       "<style scoped>\n",
       "    .dataframe tbody tr th:only-of-type {\n",
       "        vertical-align: middle;\n",
       "    }\n",
       "\n",
       "    .dataframe tbody tr th {\n",
       "        vertical-align: top;\n",
       "    }\n",
       "\n",
       "    .dataframe thead th {\n",
       "        text-align: right;\n",
       "    }\n",
       "</style>\n",
       "<table border=\"1\" class=\"dataframe\">\n",
       "  <thead>\n",
       "    <tr style=\"text-align: right;\">\n",
       "      <th></th>\n",
       "      <th>pickup_date</th>\n",
       "      <th>pickup_hour</th>\n",
       "      <th>pickup_dayofweek</th>\n",
       "      <th>PULocationID</th>\n",
       "      <th>PULoc_name</th>\n",
       "      <th>DOLocationID</th>\n",
       "      <th>DOLoc_name</th>\n",
       "      <th>trip_distance</th>\n",
       "      <th>trip_duration</th>\n",
       "      <th>speed</th>\n",
       "      <th>total_amount</th>\n",
       "      <th>count</th>\n",
       "    </tr>\n",
       "  </thead>\n",
       "  <tbody>\n",
       "    <tr>\n",
       "      <th>0</th>\n",
       "      <td>2018-01-01</td>\n",
       "      <td>0</td>\n",
       "      <td>0</td>\n",
       "      <td>1</td>\n",
       "      <td>Newark Airport</td>\n",
       "      <td>-1.0</td>\n",
       "      <td>NaN</td>\n",
       "      <td>NaN</td>\n",
       "      <td>NaN</td>\n",
       "      <td>NaN</td>\n",
       "      <td>NaN</td>\n",
       "      <td>0</td>\n",
       "    </tr>\n",
       "    <tr>\n",
       "      <th>3</th>\n",
       "      <td>2018-01-01</td>\n",
       "      <td>0</td>\n",
       "      <td>0</td>\n",
       "      <td>4</td>\n",
       "      <td>Alphabet City</td>\n",
       "      <td>232.0</td>\n",
       "      <td>Stuy Town/Peter Cooper Village</td>\n",
       "      <td>0.7</td>\n",
       "      <td>283.0</td>\n",
       "      <td>8.90</td>\n",
       "      <td>6.30</td>\n",
       "      <td>59</td>\n",
       "    </tr>\n",
       "    <tr>\n",
       "      <th>4</th>\n",
       "      <td>2018-01-01</td>\n",
       "      <td>0</td>\n",
       "      <td>0</td>\n",
       "      <td>4</td>\n",
       "      <td>Alphabet City</td>\n",
       "      <td>148.0</td>\n",
       "      <td>Two Bridges/Seward Park</td>\n",
       "      <td>0.8</td>\n",
       "      <td>514.0</td>\n",
       "      <td>5.60</td>\n",
       "      <td>9.55</td>\n",
       "      <td>59</td>\n",
       "    </tr>\n",
       "    <tr>\n",
       "      <th>5</th>\n",
       "      <td>2018-01-01</td>\n",
       "      <td>0</td>\n",
       "      <td>0</td>\n",
       "      <td>4</td>\n",
       "      <td>Alphabet City</td>\n",
       "      <td>224.0</td>\n",
       "      <td>East Chelsea</td>\n",
       "      <td>1.1</td>\n",
       "      <td>343.0</td>\n",
       "      <td>11.55</td>\n",
       "      <td>7.30</td>\n",
       "      <td>59</td>\n",
       "    </tr>\n",
       "    <tr>\n",
       "      <th>6</th>\n",
       "      <td>2018-01-01</td>\n",
       "      <td>0</td>\n",
       "      <td>0</td>\n",
       "      <td>4</td>\n",
       "      <td>Alphabet City</td>\n",
       "      <td>232.0</td>\n",
       "      <td>Greenwich Village South</td>\n",
       "      <td>0.9</td>\n",
       "      <td>462.0</td>\n",
       "      <td>7.01</td>\n",
       "      <td>7.80</td>\n",
       "      <td>59</td>\n",
       "    </tr>\n",
       "  </tbody>\n",
       "</table>\n",
       "</div>"
      ],
      "text/plain": [
       "  pickup_date  pickup_hour  pickup_dayofweek  PULocationID      PULoc_name  \\\n",
       "0  2018-01-01            0                 0             1  Newark Airport   \n",
       "3  2018-01-01            0                 0             4   Alphabet City   \n",
       "4  2018-01-01            0                 0             4   Alphabet City   \n",
       "5  2018-01-01            0                 0             4   Alphabet City   \n",
       "6  2018-01-01            0                 0             4   Alphabet City   \n",
       "\n",
       "   DOLocationID                      DOLoc_name  trip_distance  trip_duration  \\\n",
       "0          -1.0                             NaN            NaN            NaN   \n",
       "3         232.0  Stuy Town/Peter Cooper Village            0.7          283.0   \n",
       "4         148.0         Two Bridges/Seward Park            0.8          514.0   \n",
       "5         224.0                    East Chelsea            1.1          343.0   \n",
       "6         232.0         Greenwich Village South            0.9          462.0   \n",
       "\n",
       "   speed  total_amount  count  \n",
       "0    NaN           NaN      0  \n",
       "3   8.90          6.30     59  \n",
       "4   5.60          9.55     59  \n",
       "5  11.55          7.30     59  \n",
       "6   7.01          7.80     59  "
      ]
     },
     "execution_count": 61,
     "metadata": {},
     "output_type": "execute_result"
    }
   ],
   "source": [
    "CountTable.head()"
   ]
  },
  {
   "cell_type": "code",
   "execution_count": 62,
   "metadata": {},
   "outputs": [
    {
     "data": {
      "text/html": [
       "<div>\n",
       "<style scoped>\n",
       "    .dataframe tbody tr th:only-of-type {\n",
       "        vertical-align: middle;\n",
       "    }\n",
       "\n",
       "    .dataframe tbody tr th {\n",
       "        vertical-align: top;\n",
       "    }\n",
       "\n",
       "    .dataframe thead th {\n",
       "        text-align: right;\n",
       "    }\n",
       "</style>\n",
       "<table border=\"1\" class=\"dataframe\">\n",
       "  <thead>\n",
       "    <tr style=\"text-align: right;\">\n",
       "      <th></th>\n",
       "      <th>pickup_date</th>\n",
       "      <th>pickup_hour</th>\n",
       "      <th>pickup_dayofweek</th>\n",
       "      <th>PULocationID</th>\n",
       "      <th>PULoc_name</th>\n",
       "      <th>DOLocationID</th>\n",
       "      <th>DOLoc_name</th>\n",
       "      <th>trip_distance</th>\n",
       "      <th>trip_duration</th>\n",
       "      <th>speed</th>\n",
       "      <th>total_amount</th>\n",
       "      <th>count</th>\n",
       "    </tr>\n",
       "  </thead>\n",
       "  <tbody>\n",
       "    <tr>\n",
       "      <th>0</th>\n",
       "      <td>2018-01-01</td>\n",
       "      <td>0</td>\n",
       "      <td>0</td>\n",
       "      <td>4</td>\n",
       "      <td>Alphabet City</td>\n",
       "      <td>232.0</td>\n",
       "      <td>Stuy Town/Peter Cooper Village</td>\n",
       "      <td>0.7</td>\n",
       "      <td>283.0</td>\n",
       "      <td>8.90</td>\n",
       "      <td>6.30</td>\n",
       "      <td>59</td>\n",
       "    </tr>\n",
       "    <tr>\n",
       "      <th>1</th>\n",
       "      <td>2018-01-01</td>\n",
       "      <td>0</td>\n",
       "      <td>0</td>\n",
       "      <td>4</td>\n",
       "      <td>Alphabet City</td>\n",
       "      <td>148.0</td>\n",
       "      <td>Two Bridges/Seward Park</td>\n",
       "      <td>0.8</td>\n",
       "      <td>514.0</td>\n",
       "      <td>5.60</td>\n",
       "      <td>9.55</td>\n",
       "      <td>59</td>\n",
       "    </tr>\n",
       "    <tr>\n",
       "      <th>2</th>\n",
       "      <td>2018-01-01</td>\n",
       "      <td>0</td>\n",
       "      <td>0</td>\n",
       "      <td>4</td>\n",
       "      <td>Alphabet City</td>\n",
       "      <td>224.0</td>\n",
       "      <td>East Chelsea</td>\n",
       "      <td>1.1</td>\n",
       "      <td>343.0</td>\n",
       "      <td>11.55</td>\n",
       "      <td>7.30</td>\n",
       "      <td>59</td>\n",
       "    </tr>\n",
       "    <tr>\n",
       "      <th>3</th>\n",
       "      <td>2018-01-01</td>\n",
       "      <td>0</td>\n",
       "      <td>0</td>\n",
       "      <td>4</td>\n",
       "      <td>Alphabet City</td>\n",
       "      <td>232.0</td>\n",
       "      <td>Greenwich Village South</td>\n",
       "      <td>0.9</td>\n",
       "      <td>462.0</td>\n",
       "      <td>7.01</td>\n",
       "      <td>7.80</td>\n",
       "      <td>59</td>\n",
       "    </tr>\n",
       "    <tr>\n",
       "      <th>4</th>\n",
       "      <td>2018-01-01</td>\n",
       "      <td>0</td>\n",
       "      <td>0</td>\n",
       "      <td>4</td>\n",
       "      <td>Alphabet City</td>\n",
       "      <td>68.0</td>\n",
       "      <td>Kips Bay</td>\n",
       "      <td>2.9</td>\n",
       "      <td>1217.0</td>\n",
       "      <td>8.58</td>\n",
       "      <td>15.80</td>\n",
       "      <td>59</td>\n",
       "    </tr>\n",
       "  </tbody>\n",
       "</table>\n",
       "</div>"
      ],
      "text/plain": [
       "  pickup_date  pickup_hour  pickup_dayofweek  PULocationID     PULoc_name  \\\n",
       "0  2018-01-01            0                 0             4  Alphabet City   \n",
       "1  2018-01-01            0                 0             4  Alphabet City   \n",
       "2  2018-01-01            0                 0             4  Alphabet City   \n",
       "3  2018-01-01            0                 0             4  Alphabet City   \n",
       "4  2018-01-01            0                 0             4  Alphabet City   \n",
       "\n",
       "   DOLocationID                      DOLoc_name  trip_distance  trip_duration  \\\n",
       "0         232.0  Stuy Town/Peter Cooper Village            0.7          283.0   \n",
       "1         148.0         Two Bridges/Seward Park            0.8          514.0   \n",
       "2         224.0                    East Chelsea            1.1          343.0   \n",
       "3         232.0         Greenwich Village South            0.9          462.0   \n",
       "4          68.0                        Kips Bay            2.9         1217.0   \n",
       "\n",
       "   speed  total_amount  count  \n",
       "0   8.90          6.30     59  \n",
       "1   5.60          9.55     59  \n",
       "2  11.55          7.30     59  \n",
       "3   7.01          7.80     59  \n",
       "4   8.58         15.80     59  "
      ]
     },
     "execution_count": 62,
     "metadata": {},
     "output_type": "execute_result"
    }
   ],
   "source": [
    "CountTable = CountTable.dropna(axis = 0, inplace = False)\n",
    "CountTable = CountTable.reset_index(drop = True)\n",
    "CountTable.head()"
   ]
  },
  {
   "cell_type": "code",
   "execution_count": null,
   "metadata": {},
   "outputs": [],
   "source": []
  },
  {
   "cell_type": "raw",
   "metadata": {},
   "source": [
    "Beyond the the historical data, I add the weather feature to see if the the weather feature can improve the accuracy"
   ]
  },
  {
   "cell_type": "code",
   "execution_count": 64,
   "metadata": {},
   "outputs": [
    {
     "data": {
      "text/html": [
       "<div>\n",
       "<style scoped>\n",
       "    .dataframe tbody tr th:only-of-type {\n",
       "        vertical-align: middle;\n",
       "    }\n",
       "\n",
       "    .dataframe tbody tr th {\n",
       "        vertical-align: top;\n",
       "    }\n",
       "\n",
       "    .dataframe thead th {\n",
       "        text-align: right;\n",
       "    }\n",
       "</style>\n",
       "<table border=\"1\" class=\"dataframe\">\n",
       "  <thead>\n",
       "    <tr style=\"text-align: right;\">\n",
       "      <th></th>\n",
       "      <th>pickup_date</th>\n",
       "      <th>pickup_hour</th>\n",
       "      <th>Condition</th>\n",
       "      <th>Precip</th>\n",
       "      <th>Precip_Accum</th>\n",
       "    </tr>\n",
       "  </thead>\n",
       "  <tbody>\n",
       "    <tr>\n",
       "      <th>0</th>\n",
       "      <td>2018-01-01</td>\n",
       "      <td>0</td>\n",
       "      <td>1.0</td>\n",
       "      <td>0.0</td>\n",
       "      <td>0.0</td>\n",
       "    </tr>\n",
       "    <tr>\n",
       "      <th>1</th>\n",
       "      <td>2018-01-01</td>\n",
       "      <td>1</td>\n",
       "      <td>1.0</td>\n",
       "      <td>0.0</td>\n",
       "      <td>0.0</td>\n",
       "    </tr>\n",
       "    <tr>\n",
       "      <th>2</th>\n",
       "      <td>2018-01-01</td>\n",
       "      <td>2</td>\n",
       "      <td>1.0</td>\n",
       "      <td>0.0</td>\n",
       "      <td>0.0</td>\n",
       "    </tr>\n",
       "    <tr>\n",
       "      <th>3</th>\n",
       "      <td>2018-01-01</td>\n",
       "      <td>3</td>\n",
       "      <td>1.0</td>\n",
       "      <td>0.0</td>\n",
       "      <td>0.0</td>\n",
       "    </tr>\n",
       "    <tr>\n",
       "      <th>4</th>\n",
       "      <td>2018-01-01</td>\n",
       "      <td>4</td>\n",
       "      <td>1.0</td>\n",
       "      <td>0.0</td>\n",
       "      <td>0.0</td>\n",
       "    </tr>\n",
       "  </tbody>\n",
       "</table>\n",
       "</div>"
      ],
      "text/plain": [
       "  pickup_date  pickup_hour  Condition  Precip  Precip_Accum\n",
       "0  2018-01-01            0        1.0     0.0           0.0\n",
       "1  2018-01-01            1        1.0     0.0           0.0\n",
       "2  2018-01-01            2        1.0     0.0           0.0\n",
       "3  2018-01-01            3        1.0     0.0           0.0\n",
       "4  2018-01-01            4        1.0     0.0           0.0"
      ]
     },
     "execution_count": 64,
     "metadata": {},
     "output_type": "execute_result"
    }
   ],
   "source": [
    "WeatherFeature = pd.read_csv('WeatherFeature.csv',  index_col = 0)\n",
    "WeatherFeature.head()"
   ]
  },
  {
   "cell_type": "code",
   "execution_count": null,
   "metadata": {},
   "outputs": [],
   "source": []
  },
  {
   "cell_type": "raw",
   "metadata": {},
   "source": [
    "Once integrated the weather feature, I generate the following data and split into train set, validation set and test set\n",
    "I use the first 5 month as training data,\n",
    "first week of June as validation set\n",
    "second week of Junen as test set"
   ]
  },
  {
   "cell_type": "code",
   "execution_count": 4,
   "metadata": {},
   "outputs": [],
   "source": [
    "_modeldata = pd.read_csv('taxidataforML.csv', index_col = 0)"
   ]
  },
  {
   "cell_type": "code",
   "execution_count": 77,
   "metadata": {},
   "outputs": [
    {
     "data": {
      "text/html": [
       "<div>\n",
       "<style scoped>\n",
       "    .dataframe tbody tr th:only-of-type {\n",
       "        vertical-align: middle;\n",
       "    }\n",
       "\n",
       "    .dataframe tbody tr th {\n",
       "        vertical-align: top;\n",
       "    }\n",
       "\n",
       "    .dataframe thead th {\n",
       "        text-align: right;\n",
       "    }\n",
       "</style>\n",
       "<table border=\"1\" class=\"dataframe\">\n",
       "  <thead>\n",
       "    <tr style=\"text-align: right;\">\n",
       "      <th></th>\n",
       "      <th>pickup_date</th>\n",
       "      <th>pickup_hour</th>\n",
       "      <th>Condition</th>\n",
       "      <th>Precip</th>\n",
       "      <th>Precip_Accum</th>\n",
       "      <th>pickup_dayofweek</th>\n",
       "      <th>PULocationID</th>\n",
       "      <th>PULoc_name</th>\n",
       "      <th>DOLocationID</th>\n",
       "      <th>DOLoc_name</th>\n",
       "      <th>trip_distance</th>\n",
       "      <th>trip_duration</th>\n",
       "      <th>speed</th>\n",
       "      <th>total_amount</th>\n",
       "      <th>count</th>\n",
       "    </tr>\n",
       "  </thead>\n",
       "  <tbody>\n",
       "    <tr>\n",
       "      <th>0</th>\n",
       "      <td>2018-01-01</td>\n",
       "      <td>0</td>\n",
       "      <td>1.0</td>\n",
       "      <td>0.0</td>\n",
       "      <td>0.0</td>\n",
       "      <td>0.0</td>\n",
       "      <td>4.0</td>\n",
       "      <td>Alphabet City</td>\n",
       "      <td>232.0</td>\n",
       "      <td>Stuy Town/Peter Cooper Village</td>\n",
       "      <td>0.7</td>\n",
       "      <td>283.0</td>\n",
       "      <td>8.90</td>\n",
       "      <td>6.30</td>\n",
       "      <td>59.0</td>\n",
       "    </tr>\n",
       "    <tr>\n",
       "      <th>1</th>\n",
       "      <td>2018-01-01</td>\n",
       "      <td>0</td>\n",
       "      <td>1.0</td>\n",
       "      <td>0.0</td>\n",
       "      <td>0.0</td>\n",
       "      <td>0.0</td>\n",
       "      <td>4.0</td>\n",
       "      <td>Alphabet City</td>\n",
       "      <td>148.0</td>\n",
       "      <td>Two Bridges/Seward Park</td>\n",
       "      <td>0.8</td>\n",
       "      <td>514.0</td>\n",
       "      <td>5.60</td>\n",
       "      <td>9.55</td>\n",
       "      <td>59.0</td>\n",
       "    </tr>\n",
       "    <tr>\n",
       "      <th>2</th>\n",
       "      <td>2018-01-01</td>\n",
       "      <td>0</td>\n",
       "      <td>1.0</td>\n",
       "      <td>0.0</td>\n",
       "      <td>0.0</td>\n",
       "      <td>0.0</td>\n",
       "      <td>4.0</td>\n",
       "      <td>Alphabet City</td>\n",
       "      <td>224.0</td>\n",
       "      <td>East Chelsea</td>\n",
       "      <td>1.1</td>\n",
       "      <td>343.0</td>\n",
       "      <td>11.55</td>\n",
       "      <td>7.30</td>\n",
       "      <td>59.0</td>\n",
       "    </tr>\n",
       "    <tr>\n",
       "      <th>3</th>\n",
       "      <td>2018-01-01</td>\n",
       "      <td>0</td>\n",
       "      <td>1.0</td>\n",
       "      <td>0.0</td>\n",
       "      <td>0.0</td>\n",
       "      <td>0.0</td>\n",
       "      <td>4.0</td>\n",
       "      <td>Alphabet City</td>\n",
       "      <td>232.0</td>\n",
       "      <td>Greenwich Village South</td>\n",
       "      <td>0.9</td>\n",
       "      <td>462.0</td>\n",
       "      <td>7.01</td>\n",
       "      <td>7.80</td>\n",
       "      <td>59.0</td>\n",
       "    </tr>\n",
       "    <tr>\n",
       "      <th>4</th>\n",
       "      <td>2018-01-01</td>\n",
       "      <td>0</td>\n",
       "      <td>1.0</td>\n",
       "      <td>0.0</td>\n",
       "      <td>0.0</td>\n",
       "      <td>0.0</td>\n",
       "      <td>4.0</td>\n",
       "      <td>Alphabet City</td>\n",
       "      <td>68.0</td>\n",
       "      <td>Kips Bay</td>\n",
       "      <td>2.9</td>\n",
       "      <td>1217.0</td>\n",
       "      <td>8.58</td>\n",
       "      <td>15.80</td>\n",
       "      <td>59.0</td>\n",
       "    </tr>\n",
       "  </tbody>\n",
       "</table>\n",
       "</div>"
      ],
      "text/plain": [
       "  pickup_date  pickup_hour  Condition  Precip  Precip_Accum  pickup_dayofweek  \\\n",
       "0  2018-01-01            0        1.0     0.0           0.0               0.0   \n",
       "1  2018-01-01            0        1.0     0.0           0.0               0.0   \n",
       "2  2018-01-01            0        1.0     0.0           0.0               0.0   \n",
       "3  2018-01-01            0        1.0     0.0           0.0               0.0   \n",
       "4  2018-01-01            0        1.0     0.0           0.0               0.0   \n",
       "\n",
       "   PULocationID     PULoc_name  DOLocationID                      DOLoc_name  \\\n",
       "0           4.0  Alphabet City         232.0  Stuy Town/Peter Cooper Village   \n",
       "1           4.0  Alphabet City         148.0         Two Bridges/Seward Park   \n",
       "2           4.0  Alphabet City         224.0                    East Chelsea   \n",
       "3           4.0  Alphabet City         232.0         Greenwich Village South   \n",
       "4           4.0  Alphabet City          68.0                        Kips Bay   \n",
       "\n",
       "   trip_distance  trip_duration  speed  total_amount  count  \n",
       "0            0.7          283.0   8.90          6.30   59.0  \n",
       "1            0.8          514.0   5.60          9.55   59.0  \n",
       "2            1.1          343.0  11.55          7.30   59.0  \n",
       "3            0.9          462.0   7.01          7.80   59.0  \n",
       "4            2.9         1217.0   8.58         15.80   59.0  "
      ]
     },
     "execution_count": 77,
     "metadata": {},
     "output_type": "execute_result"
    }
   ],
   "source": [
    "_modeldata.head()"
   ]
  },
  {
   "cell_type": "code",
   "execution_count": 78,
   "metadata": {},
   "outputs": [
    {
     "data": {
      "text/plain": [
       "(36451106, 15)"
      ]
     },
     "execution_count": 78,
     "metadata": {},
     "output_type": "execute_result"
    }
   ],
   "source": [
    "_modeldata.shape"
   ]
  },
  {
   "cell_type": "code",
   "execution_count": 5,
   "metadata": {},
   "outputs": [],
   "source": [
    "_modeldata.pickup_date = pd.to_datetime(_modeldata.pickup_date, format='%Y%m%d %H:%M:%S')"
   ]
  },
  {
   "cell_type": "code",
   "execution_count": 6,
   "metadata": {},
   "outputs": [
    {
     "data": {
      "text/html": [
       "<div>\n",
       "<style scoped>\n",
       "    .dataframe tbody tr th:only-of-type {\n",
       "        vertical-align: middle;\n",
       "    }\n",
       "\n",
       "    .dataframe tbody tr th {\n",
       "        vertical-align: top;\n",
       "    }\n",
       "\n",
       "    .dataframe thead th {\n",
       "        text-align: right;\n",
       "    }\n",
       "</style>\n",
       "<table border=\"1\" class=\"dataframe\">\n",
       "  <thead>\n",
       "    <tr style=\"text-align: right;\">\n",
       "      <th></th>\n",
       "      <th>pickup_date</th>\n",
       "      <th>pickup_hour</th>\n",
       "      <th>Condition</th>\n",
       "      <th>Precip</th>\n",
       "      <th>Precip_Accum</th>\n",
       "      <th>pickup_dayofweek</th>\n",
       "      <th>PULocationID</th>\n",
       "      <th>PULoc_name</th>\n",
       "      <th>DOLocationID</th>\n",
       "      <th>DOLoc_name</th>\n",
       "      <th>trip_distance</th>\n",
       "      <th>trip_duration</th>\n",
       "      <th>speed</th>\n",
       "      <th>total_amount</th>\n",
       "      <th>count</th>\n",
       "    </tr>\n",
       "  </thead>\n",
       "  <tbody>\n",
       "    <tr>\n",
       "      <th>32612214</th>\n",
       "      <td>2018-06-08</td>\n",
       "      <td>0</td>\n",
       "      <td>1.0</td>\n",
       "      <td>0.0</td>\n",
       "      <td>0.0</td>\n",
       "      <td>4.0</td>\n",
       "      <td>4.0</td>\n",
       "      <td>Yorkville East</td>\n",
       "      <td>231.0</td>\n",
       "      <td>Lenox Hill West</td>\n",
       "      <td>2.26</td>\n",
       "      <td>952.0</td>\n",
       "      <td>8.55</td>\n",
       "      <td>15.10</td>\n",
       "      <td>24.0</td>\n",
       "    </tr>\n",
       "    <tr>\n",
       "      <th>32612215</th>\n",
       "      <td>2018-06-08</td>\n",
       "      <td>0</td>\n",
       "      <td>1.0</td>\n",
       "      <td>0.0</td>\n",
       "      <td>0.0</td>\n",
       "      <td>4.0</td>\n",
       "      <td>4.0</td>\n",
       "      <td>Yorkville East</td>\n",
       "      <td>87.0</td>\n",
       "      <td>Midtown Center</td>\n",
       "      <td>2.90</td>\n",
       "      <td>651.0</td>\n",
       "      <td>16.04</td>\n",
       "      <td>15.95</td>\n",
       "      <td>24.0</td>\n",
       "    </tr>\n",
       "    <tr>\n",
       "      <th>32612216</th>\n",
       "      <td>2018-06-08</td>\n",
       "      <td>0</td>\n",
       "      <td>1.0</td>\n",
       "      <td>0.0</td>\n",
       "      <td>0.0</td>\n",
       "      <td>4.0</td>\n",
       "      <td>4.0</td>\n",
       "      <td>Yorkville East</td>\n",
       "      <td>79.0</td>\n",
       "      <td>Midtown North</td>\n",
       "      <td>0.61</td>\n",
       "      <td>250.0</td>\n",
       "      <td>8.78</td>\n",
       "      <td>6.67</td>\n",
       "      <td>24.0</td>\n",
       "    </tr>\n",
       "    <tr>\n",
       "      <th>32612217</th>\n",
       "      <td>2018-06-08</td>\n",
       "      <td>0</td>\n",
       "      <td>1.0</td>\n",
       "      <td>0.0</td>\n",
       "      <td>0.0</td>\n",
       "      <td>4.0</td>\n",
       "      <td>4.0</td>\n",
       "      <td>Yorkville East</td>\n",
       "      <td>233.0</td>\n",
       "      <td>Lenox Hill East</td>\n",
       "      <td>1.90</td>\n",
       "      <td>655.0</td>\n",
       "      <td>10.44</td>\n",
       "      <td>12.43</td>\n",
       "      <td>24.0</td>\n",
       "    </tr>\n",
       "    <tr>\n",
       "      <th>32612218</th>\n",
       "      <td>2018-06-08</td>\n",
       "      <td>0</td>\n",
       "      <td>1.0</td>\n",
       "      <td>0.0</td>\n",
       "      <td>0.0</td>\n",
       "      <td>4.0</td>\n",
       "      <td>4.0</td>\n",
       "      <td>Yorkville East</td>\n",
       "      <td>148.0</td>\n",
       "      <td>Upper East Side North</td>\n",
       "      <td>0.80</td>\n",
       "      <td>278.0</td>\n",
       "      <td>10.36</td>\n",
       "      <td>8.16</td>\n",
       "      <td>24.0</td>\n",
       "    </tr>\n",
       "  </tbody>\n",
       "</table>\n",
       "</div>"
      ],
      "text/plain": [
       "         pickup_date  pickup_hour  Condition  Precip  Precip_Accum  \\\n",
       "32612214  2018-06-08            0        1.0     0.0           0.0   \n",
       "32612215  2018-06-08            0        1.0     0.0           0.0   \n",
       "32612216  2018-06-08            0        1.0     0.0           0.0   \n",
       "32612217  2018-06-08            0        1.0     0.0           0.0   \n",
       "32612218  2018-06-08            0        1.0     0.0           0.0   \n",
       "\n",
       "          pickup_dayofweek  PULocationID      PULoc_name  DOLocationID  \\\n",
       "32612214               4.0           4.0  Yorkville East         231.0   \n",
       "32612215               4.0           4.0  Yorkville East          87.0   \n",
       "32612216               4.0           4.0  Yorkville East          79.0   \n",
       "32612217               4.0           4.0  Yorkville East         233.0   \n",
       "32612218               4.0           4.0  Yorkville East         148.0   \n",
       "\n",
       "                     DOLoc_name  trip_distance  trip_duration  speed  \\\n",
       "32612214        Lenox Hill West           2.26          952.0   8.55   \n",
       "32612215         Midtown Center           2.90          651.0  16.04   \n",
       "32612216          Midtown North           0.61          250.0   8.78   \n",
       "32612217        Lenox Hill East           1.90          655.0  10.44   \n",
       "32612218  Upper East Side North           0.80          278.0  10.36   \n",
       "\n",
       "          total_amount  count  \n",
       "32612214         15.10   24.0  \n",
       "32612215         15.95   24.0  \n",
       "32612216          6.67   24.0  \n",
       "32612217         12.43   24.0  \n",
       "32612218          8.16   24.0  "
      ]
     },
     "execution_count": 6,
     "metadata": {},
     "output_type": "execute_result"
    }
   ],
   "source": [
    "TestSet = _modeldata[_modeldata.pickup_date > pd.Timestamp(2018,6,7)]\n",
    "TestSet = TestSet[TestSet.pickup_date < pd.Timestamp(2018,6,15)]\n",
    "TestSet.sort_values(by=['pickup_date', 'pickup_hour', 'PULocationID'], inplace = True)\n",
    "TestSet = TestSet.dropna()\n",
    "TestSet.head()"
   ]
  },
  {
   "cell_type": "code",
   "execution_count": 87,
   "metadata": {},
   "outputs": [
    {
     "data": {
      "text/plain": [
       "(1383510, 15)"
      ]
     },
     "execution_count": 87,
     "metadata": {},
     "output_type": "execute_result"
    }
   ],
   "source": [
    "TestSet.shape"
   ]
  },
  {
   "cell_type": "code",
   "execution_count": null,
   "metadata": {},
   "outputs": [],
   "source": []
  },
  {
   "cell_type": "code",
   "execution_count": 7,
   "metadata": {},
   "outputs": [
    {
     "name": "stderr",
     "output_type": "stream",
     "text": [
      "/Users/brian/anaconda3/lib/python3.6/site-packages/ipykernel_launcher.py:2: SettingWithCopyWarning: \n",
      "A value is trying to be set on a copy of a slice from a DataFrame\n",
      "\n",
      "See the caveats in the documentation: http://pandas.pydata.org/pandas-docs/stable/indexing.html#indexing-view-versus-copy\n",
      "  \n"
     ]
    }
   ],
   "source": [
    "Train_Val_Set = _modeldata[_modeldata.pickup_date < pd.Timestamp(2018,6,8)]\n",
    "Train_Val_Set.sort_values(by=['pickup_date', 'pickup_hour', 'PULocationID'], inplace = True)"
   ]
  },
  {
   "cell_type": "code",
   "execution_count": 8,
   "metadata": {},
   "outputs": [
    {
     "name": "stderr",
     "output_type": "stream",
     "text": [
      "/Users/brian/anaconda3/lib/python3.6/site-packages/ipykernel_launcher.py:2: SettingWithCopyWarning: \n",
      "A value is trying to be set on a copy of a slice from a DataFrame\n",
      "\n",
      "See the caveats in the documentation: http://pandas.pydata.org/pandas-docs/stable/indexing.html#indexing-view-versus-copy\n",
      "  \n"
     ]
    }
   ],
   "source": [
    "Train_Set = _modeldata[_modeldata.pickup_date < pd.Timestamp(2018,6,1)]\n",
    "Train_Set.sort_values(by=['pickup_date', 'pickup_hour', 'PULocationID'], inplace = True)"
   ]
  },
  {
   "cell_type": "code",
   "execution_count": 9,
   "metadata": {},
   "outputs": [
    {
     "name": "stderr",
     "output_type": "stream",
     "text": [
      "/Users/brian/anaconda3/lib/python3.6/site-packages/ipykernel_launcher.py:2: SettingWithCopyWarning: \n",
      "A value is trying to be set on a copy of a slice from a DataFrame\n",
      "\n",
      "See the caveats in the documentation: http://pandas.pydata.org/pandas-docs/stable/indexing.html#indexing-view-versus-copy\n",
      "  \n"
     ]
    }
   ],
   "source": [
    "Val_Set = Train_Val_Set[Train_Val_Set.pickup_date >= pd.Timestamp(2018,6,1)]\n",
    "Val_Set.sort_values(by=['pickup_date', 'pickup_hour', 'PULocationID'], inplace = True)"
   ]
  },
  {
   "cell_type": "code",
   "execution_count": 10,
   "metadata": {},
   "outputs": [
    {
     "data": {
      "text/plain": [
       "(1383510, 15)"
      ]
     },
     "execution_count": 10,
     "metadata": {},
     "output_type": "execute_result"
    }
   ],
   "source": [
    "TestSet.shape"
   ]
  },
  {
   "cell_type": "code",
   "execution_count": 11,
   "metadata": {},
   "outputs": [
    {
     "data": {
      "text/plain": [
       "(33025589, 15)"
      ]
     },
     "execution_count": 11,
     "metadata": {},
     "output_type": "execute_result"
    }
   ],
   "source": [
    "Train_Val_Set.shape"
   ]
  },
  {
   "cell_type": "code",
   "execution_count": 12,
   "metadata": {},
   "outputs": [
    {
     "data": {
      "text/plain": [
       "(31574488, 15)"
      ]
     },
     "execution_count": 12,
     "metadata": {},
     "output_type": "execute_result"
    }
   ],
   "source": [
    "Train_Set.shape"
   ]
  },
  {
   "cell_type": "code",
   "execution_count": 13,
   "metadata": {},
   "outputs": [
    {
     "data": {
      "text/plain": [
       "(1451101, 15)"
      ]
     },
     "execution_count": 13,
     "metadata": {},
     "output_type": "execute_result"
    }
   ],
   "source": [
    "Val_Set.shape"
   ]
  },
  {
   "cell_type": "code",
   "execution_count": null,
   "metadata": {},
   "outputs": [],
   "source": []
  },
  {
   "cell_type": "code",
   "execution_count": null,
   "metadata": {},
   "outputs": [],
   "source": []
  },
  {
   "cell_type": "raw",
   "metadata": {},
   "source": [
    "The following are the EDA plot analysis"
   ]
  },
  {
   "cell_type": "code",
   "execution_count": 20,
   "metadata": {},
   "outputs": [],
   "source": [
    "import seaborn as sns\n",
    "import matplotlib.pyplot as plt"
   ]
  },
  {
   "cell_type": "code",
   "execution_count": 98,
   "metadata": {},
   "outputs": [
    {
     "data": {
      "image/png": "[encoded data removed]",
      "text/plain": [
       "<Figure size 720x432 with 2 Axes>"
      ]
     },
     "metadata": {
      "needs_background": "light"
     },
     "output_type": "display_data"
    }
   ],
   "source": [
    "plt.figure(figsize=(10,6))\n",
    "corr = Train_Val_Set.corr()\n",
    "mask = np.zeros_like(corr)\n",
    "mask[np.triu_indices_from(mask)] = True\n",
    "with sns.axes_style(\"white\"):\n",
    "    ax = sns.heatmap(corr, mask=mask, vmax=.3, square=True, annot = True, fmt=\".1f\")\n",
    "plt.show()"
   ]
  },
  {
   "cell_type": "code",
   "execution_count": 100,
   "metadata": {},
   "outputs": [
    {
     "data": {
      "text/plain": [
       "<matplotlib.axes._subplots.AxesSubplot at 0x18670b7b8>"
      ]
     },
     "execution_count": 100,
     "metadata": {},
     "output_type": "execute_result"
    },
    {
     "data": {
      "image/png": "[encoded data removed]",
      "text/plain": [
       "<Figure size 576x360 with 1 Axes>"
      ]
     },
     "metadata": {
      "needs_background": "light"
     },
     "output_type": "display_data"
    }
   ],
   "source": [
    "plt.figure(figsize=(8,5))\n",
    "sns.distplot(Train_Val_Set['count'], bins = 10, kde=False)"
   ]
  },
  {
   "cell_type": "code",
   "execution_count": 102,
   "metadata": {},
   "outputs": [
    {
     "data": {
      "text/plain": [
       "<matplotlib.axes._subplots.AxesSubplot at 0x186853208>"
      ]
     },
     "execution_count": 102,
     "metadata": {},
     "output_type": "execute_result"
    },
    {
     "data": {
      "image/png": "[encoded data removed]",
      "text/plain": [
       "<Figure size 576x360 with 1 Axes>"
      ]
     },
     "metadata": {
      "needs_background": "light"
     },
     "output_type": "display_data"
    }
   ],
   "source": [
    "plt.figure(figsize=(8,5))\n",
    "sns.distplot(Train_Val_Set['speed'], bins = 10, kde=False)"
   ]
  },
  {
   "cell_type": "code",
   "execution_count": 103,
   "metadata": {},
   "outputs": [
    {
     "data": {
      "text/plain": [
       "<matplotlib.axes._subplots.AxesSubplot at 0x16121b320>"
      ]
     },
     "execution_count": 103,
     "metadata": {},
     "output_type": "execute_result"
    },
    {
     "data": {
      "image/png": "[encoded data removed]",
      "text/plain": [
       "<Figure size 576x360 with 1 Axes>"
      ]
     },
     "metadata": {
      "needs_background": "light"
     },
     "output_type": "display_data"
    }
   ],
   "source": [
    "plt.figure(figsize=(8,5))\n",
    "sns.distplot(Train_Val_Set['trip_distance'], kde=False, bins = 10)"
   ]
  },
  {
   "cell_type": "code",
   "execution_count": 104,
   "metadata": {},
   "outputs": [
    {
     "data": {
      "text/plain": [
       "<matplotlib.axes._subplots.AxesSubplot at 0x183608c50>"
      ]
     },
     "execution_count": 104,
     "metadata": {},
     "output_type": "execute_result"
    },
    {
     "data": {
      "image/png": "[encoded data removed]",
      "text/plain": [
       "<Figure size 576x360 with 1 Axes>"
      ]
     },
     "metadata": {
      "needs_background": "light"
     },
     "output_type": "display_data"
    }
   ],
   "source": [
    "plt.figure(figsize=(8,5))\n",
    "sns.distplot(Train_Val_Set['pickup_hour'], kde=False, bins = 24)"
   ]
  },
  {
   "cell_type": "code",
   "execution_count": 105,
   "metadata": {},
   "outputs": [
    {
     "data": {
      "text/plain": [
       "<matplotlib.axes._subplots.AxesSubplot at 0x129850400>"
      ]
     },
     "execution_count": 105,
     "metadata": {},
     "output_type": "execute_result"
    },
    {
     "data": {
      "image/png": "[encoded data removed]",
      "text/plain": [
       "<Figure size 576x360 with 1 Axes>"
      ]
     },
     "metadata": {
      "needs_background": "light"
     },
     "output_type": "display_data"
    }
   ],
   "source": [
    "plt.figure(figsize=(8,5))\n",
    "sns.distplot(Train_Val_Set['pickup_dayofweek'], kde=False, bins = 7)"
   ]
  },
  {
   "cell_type": "code",
   "execution_count": 106,
   "metadata": {},
   "outputs": [
    {
     "data": {
      "text/plain": [
       "<matplotlib.axes._subplots.AxesSubplot at 0x1835df7f0>"
      ]
     },
     "execution_count": 106,
     "metadata": {},
     "output_type": "execute_result"
    },
    {
     "data": {
      "image/png": "[encoded data removed]",
      "text/plain": [
       "<Figure size 576x360 with 1 Axes>"
      ]
     },
     "metadata": {
      "needs_background": "light"
     },
     "output_type": "display_data"
    }
   ],
   "source": [
    "plt.figure(figsize=(8,5))\n",
    "sns.distplot(Train_Val_Set['PULocationID'], bins = 60, kde=False)"
   ]
  },
  {
   "cell_type": "code",
   "execution_count": 107,
   "metadata": {},
   "outputs": [
    {
     "data": {
      "image/png": "[encoded data removed]",
      "text/plain": [
       "<Figure size 864x576 with 1 Axes>"
      ]
     },
     "metadata": {
      "needs_background": "light"
     },
     "output_type": "display_data"
    }
   ],
   "source": [
    "plt.figure(figsize=(12,8))\n",
    "sns.countplot(x=\"pickup_hour\", data=Train_Val_Set)\n",
    "plt.show()"
   ]
  },
  {
   "cell_type": "code",
   "execution_count": 108,
   "metadata": {},
   "outputs": [
    {
     "data": {
      "image/png": "[encoded data removed]",
      "text/plain": [
       "<Figure size 720x432 with 1 Axes>"
      ]
     },
     "metadata": {
      "needs_background": "light"
     },
     "output_type": "display_data"
    }
   ],
   "source": [
    "plt.figure(figsize=(10,6))\n",
    "sns.countplot(x=\"pickup_dayofweek\", data=Train_Val_Set)\n",
    "plt.show()"
   ]
  },
  {
   "cell_type": "code",
   "execution_count": 109,
   "metadata": {},
   "outputs": [
    {
     "data": {
      "image/png": "[encoded data removed]",
      "text/plain": [
       "<Figure size 720x432 with 1 Axes>"
      ]
     },
     "metadata": {
      "needs_background": "light"
     },
     "output_type": "display_data"
    }
   ],
   "source": [
    "plt.figure(figsize=(10,6))\n",
    "sns.countplot(x=\"Condition\", data=Train_Val_Set)\n",
    "plt.show()"
   ]
  },
  {
   "cell_type": "code",
   "execution_count": 110,
   "metadata": {},
   "outputs": [
    {
     "data": {
      "image/png": "[encoded data removed]",
      "text/plain": [
       "<Figure size 720x432 with 1 Axes>"
      ]
     },
     "metadata": {
      "needs_background": "light"
     },
     "output_type": "display_data"
    }
   ],
   "source": [
    "plt.figure(figsize=(10,6))\n",
    "sns.countplot(x=\"PULocationID\", data=Train_Val_Set)\n",
    "plt.show()"
   ]
  },
  {
   "cell_type": "code",
   "execution_count": 111,
   "metadata": {},
   "outputs": [
    {
     "data": {
      "image/png": "[encoded data removed]",
      "text/plain": [
       "<Figure size 576x360 with 1 Axes>"
      ]
     },
     "metadata": {
      "needs_background": "light"
     },
     "output_type": "display_data"
    },
    {
     "data": {
      "text/plain": [
       "<Figure size 432x288 with 0 Axes>"
      ]
     },
     "metadata": {},
     "output_type": "display_data"
    }
   ],
   "source": [
    "#histogram and normal probability plot\n",
    "plt.figure(figsize=(8,5))\n",
    "from scipy.stats import norm\n",
    "sns.distplot(Train_Val_Set['speed'], bins = 12, fit=norm);\n",
    "fig = plt.figure()"
   ]
  },
  {
   "cell_type": "code",
   "execution_count": 112,
   "metadata": {},
   "outputs": [
    {
     "data": {
      "image/png": "[encoded data removed]",
      "text/plain": [
       "<Figure size 576x360 with 1 Axes>"
      ]
     },
     "metadata": {
      "needs_background": "light"
     },
     "output_type": "display_data"
    }
   ],
   "source": [
    "plt.figure(figsize=(8,5))\n",
    "sns.distplot(Train_Val_Set['trip_distance'], kde = False, bins = 12, fit=norm);"
   ]
  }
 ],
 "metadata": {
  "kernelspec": {
   "display_name": "Python 3",
   "language": "python",
   "name": "python3"
  },
  "language_info": {
   "codemirror_mode": {
    "name": "ipython",
    "version": 3
   },
   "file_extension": ".py",
   "mimetype": "text/x-python",
   "name": "python",
   "nbconvert_exporter": "python",
   "pygments_lexer": "ipython3",
   "version": "3.6.6"
  },
  "toc": {
   "base_numbering": 1,
   "nav_menu": {},
   "number_sections": true,
   "sideBar": true,
   "skip_h1_title": false,
   "title_cell": "Table of Contents",
   "title_sidebar": "Contents",
   "toc_cell": false,
   "toc_position": {},
   "toc_section_display": true,
   "toc_window_display": false
  }
 },
 "nbformat": 4,
 "nbformat_minor": 2
}
